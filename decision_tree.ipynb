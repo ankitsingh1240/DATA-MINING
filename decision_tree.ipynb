{
 "cells": [
  {
   "cell_type": "code",
   "execution_count": 55,
   "metadata": {},
   "outputs": [
    {
     "data": {
      "text/html": [
       "<div>\n",
       "<style scoped>\n",
       "    .dataframe tbody tr th:only-of-type {\n",
       "        vertical-align: middle;\n",
       "    }\n",
       "\n",
       "    .dataframe tbody tr th {\n",
       "        vertical-align: top;\n",
       "    }\n",
       "\n",
       "    .dataframe thead th {\n",
       "        text-align: right;\n",
       "    }\n",
       "</style>\n",
       "<table border=\"1\" class=\"dataframe\">\n",
       "  <thead>\n",
       "    <tr style=\"text-align: right;\">\n",
       "      <th></th>\n",
       "      <th>SepalLengthCm</th>\n",
       "      <th>SepalWidthCm</th>\n",
       "      <th>PetalLengthCm</th>\n",
       "      <th>PetalWidthCm</th>\n",
       "      <th>Species</th>\n",
       "    </tr>\n",
       "  </thead>\n",
       "  <tbody>\n",
       "    <tr>\n",
       "      <th>0</th>\n",
       "      <td>5.1</td>\n",
       "      <td>3.5</td>\n",
       "      <td>1.4</td>\n",
       "      <td>0.2</td>\n",
       "      <td>Iris-setosa</td>\n",
       "    </tr>\n",
       "    <tr>\n",
       "      <th>1</th>\n",
       "      <td>4.9</td>\n",
       "      <td>3.0</td>\n",
       "      <td>1.4</td>\n",
       "      <td>0.2</td>\n",
       "      <td>Iris-setosa</td>\n",
       "    </tr>\n",
       "    <tr>\n",
       "      <th>2</th>\n",
       "      <td>4.7</td>\n",
       "      <td>3.2</td>\n",
       "      <td>1.3</td>\n",
       "      <td>0.2</td>\n",
       "      <td>Iris-setosa</td>\n",
       "    </tr>\n",
       "    <tr>\n",
       "      <th>3</th>\n",
       "      <td>4.6</td>\n",
       "      <td>3.1</td>\n",
       "      <td>1.5</td>\n",
       "      <td>0.2</td>\n",
       "      <td>Iris-setosa</td>\n",
       "    </tr>\n",
       "    <tr>\n",
       "      <th>4</th>\n",
       "      <td>5.0</td>\n",
       "      <td>3.6</td>\n",
       "      <td>1.4</td>\n",
       "      <td>0.2</td>\n",
       "      <td>Iris-setosa</td>\n",
       "    </tr>\n",
       "  </tbody>\n",
       "</table>\n",
       "</div>"
      ],
      "text/plain": [
       "   SepalLengthCm  SepalWidthCm  PetalLengthCm  PetalWidthCm      Species\n",
       "0            5.1           3.5            1.4           0.2  Iris-setosa\n",
       "1            4.9           3.0            1.4           0.2  Iris-setosa\n",
       "2            4.7           3.2            1.3           0.2  Iris-setosa\n",
       "3            4.6           3.1            1.5           0.2  Iris-setosa\n",
       "4            5.0           3.6            1.4           0.2  Iris-setosa"
      ]
     },
     "execution_count": 55,
     "metadata": {},
     "output_type": "execute_result"
    }
   ],
   "source": [
    "import pandas as pd\n",
    "import numpy as np\n",
    "from pprint import pprint\n",
    "Data = pd.read_csv(\"iris_data.csv\")\n",
    "Data.head()"
   ]
  },
  {
   "cell_type": "code",
   "execution_count": 85,
   "metadata": {},
   "outputs": [
    {
     "data": {
      "text/plain": [
       "(array(['Iris-setosa', 'Iris-versicolor', 'Iris-virginica'], dtype=object),\n",
       " array([50, 50, 50], dtype=int64))"
      ]
     },
     "execution_count": 85,
     "metadata": {},
     "output_type": "execute_result"
    }
   ],
   "source": [
    "np.unique(data[:,-1],return_counts=True)"
   ]
  },
  {
   "cell_type": "code",
   "execution_count": 72,
   "metadata": {},
   "outputs": [],
   "source": [
    "def check_purity(Data):\n",
    "    species=data[:,-1]\n",
    "    unique_class=np.unique(species)\n",
    "    if (len(unique_class)==1):\n",
    "        return (\"data is pure\")\n",
    "    else:\n",
    "        return(\"data is not pure\")"
   ]
  },
  {
   "cell_type": "code",
   "execution_count": 73,
   "metadata": {},
   "outputs": [
    {
     "data": {
      "text/plain": [
       "'data is not pure'"
      ]
     },
     "execution_count": 73,
     "metadata": {},
     "output_type": "execute_result"
    }
   ],
   "source": [
    "check_purity(Data)"
   ]
  },
  {
   "cell_type": "code",
   "execution_count": 86,
   "metadata": {},
   "outputs": [],
   "source": [
    "def classify_data(data):\n",
    "    unique_class,unique_class_count=np.unique(data[:,-1],return_counts=True)\n",
    "    index_class=unique_class_count.argmax()\n",
    "    classification=unique_class[index_class]\n",
    "    return classification"
   ]
  },
  {
   "cell_type": "code",
   "execution_count": 87,
   "metadata": {},
   "outputs": [
    {
     "data": {
      "text/plain": [
       "'Iris-setosa'"
      ]
     },
     "execution_count": 87,
     "metadata": {},
     "output_type": "execute_result"
    }
   ],
   "source": [
    "classify_data(data)"
   ]
  },
  {
   "cell_type": "code",
   "execution_count": 88,
   "metadata": {},
   "outputs": [],
   "source": [
    "\n",
    "def entropy(target_col):\n",
    "    elements,counts = np.unique(target_col,return_counts = True)\n",
    "    entropy = np.sum([(-counts[i]/np.sum(counts))*np.log2(counts[i]/np.sum(counts)) for i in range(len(elements))])\n",
    "    return entropy"
   ]
  },
  {
   "cell_type": "code",
   "execution_count": 89,
   "metadata": {},
   "outputs": [],
   "source": [
    "def InfoGain(data,split_attribute_name,target_name):  \n",
    "    total_entropy = entropy(data[target_name])\n",
    "    vals,counts= np.unique(data[split_attribute_name],return_counts=True)\n",
    "    Weighted_Entropy = np.sum([(counts[i]/np.sum(counts))*entropy(data.where(data[split_attribute_name]==vals[i]).dropna()[target_name]) for i in range(len(vals))])\n",
    "    Information_Gain = total_entropy - Weighted_Entropy\n",
    "    return Information_Gain"
   ]
  },
  {
   "cell_type": "code",
   "execution_count": null,
   "metadata": {},
   "outputs": [],
   "source": []
  },
  {
   "cell_type": "code",
   "execution_count": 93,
   "metadata": {},
   "outputs": [],
   "source": [
    "def main_function(data,originaldata,features,target_attribute_name=\"Species\",parent_node_class = None):\n",
    "    if len(np.unique(data[target_attribute_name])) <= 1:\n",
    "        return np.unique(data[target_attribute_name])[0]\n",
    "    elif len(data)==0:\n",
    "        return np.unique(originaldata[target_attribute_name])[np.argmax(np.unique(originaldata[target_attribute_name],return_counts=True)[1])]\n",
    "    elif len(features) ==0:\n",
    "        return parent_node_class\n",
    "    else:\n",
    "        parent_node_class = np.unique(data[target_attribute_name])[np.argmax(np.unique(data[target_attribute_name],return_counts=True)[1])]\n",
    "        item_values = [InfoGain(data,feature,target_attribute_name) for feature in features] #Return the information gain values for the features in the dataset\n",
    "        best_feature_index = np.argmax(item_values)\n",
    "        best_feature = features[best_feature_index]\n",
    "\n",
    "        tree = {best_feature:{}}\n",
    "        features = [i for i in features if i != best_feature]\n",
    "        \n",
    "        for value in np.unique(data[best_feature]):\n",
    "            value = value\n",
    "            sub_data = data.where(data[best_feature] == value).dropna()\n",
    "            subtree = main_function(sub_data,dataset,features,target_attribute_name,parent_node_class)\n",
    "            tree[best_feature][value] = subtree\n",
    "            \n",
    "        return(tree)    \n",
    "                "
   ]
  },
  {
   "cell_type": "code",
   "execution_count": 94,
   "metadata": {},
   "outputs": [],
   "source": [
    " tree = main_function(Data,Data,Data.columns[:-1])"
   ]
  },
  {
   "cell_type": "code",
   "execution_count": 95,
   "metadata": {},
   "outputs": [
    {
     "data": {
      "text/plain": [
       "{'PetalLengthCm': {1.0: 'Iris-setosa',\n",
       "  1.1: 'Iris-setosa',\n",
       "  1.2: 'Iris-setosa',\n",
       "  1.3: 'Iris-setosa',\n",
       "  1.4: 'Iris-setosa',\n",
       "  1.5: 'Iris-setosa',\n",
       "  1.6: 'Iris-setosa',\n",
       "  1.7: 'Iris-setosa',\n",
       "  1.9: 'Iris-setosa',\n",
       "  3.0: 'Iris-versicolor',\n",
       "  3.3: 'Iris-versicolor',\n",
       "  3.5: 'Iris-versicolor',\n",
       "  3.6: 'Iris-versicolor',\n",
       "  3.7: 'Iris-versicolor',\n",
       "  3.8: 'Iris-versicolor',\n",
       "  3.9: 'Iris-versicolor',\n",
       "  4.0: 'Iris-versicolor',\n",
       "  4.1: 'Iris-versicolor',\n",
       "  4.2: 'Iris-versicolor',\n",
       "  4.3: 'Iris-versicolor',\n",
       "  4.4: 'Iris-versicolor',\n",
       "  4.5: {'SepalLengthCm': {4.9: 'Iris-virginica',\n",
       "    5.4: 'Iris-versicolor',\n",
       "    5.6: 'Iris-versicolor',\n",
       "    5.7: 'Iris-versicolor',\n",
       "    6.0: 'Iris-versicolor',\n",
       "    6.2: 'Iris-versicolor',\n",
       "    6.4: 'Iris-versicolor'}},\n",
       "  4.6: 'Iris-versicolor',\n",
       "  4.7: 'Iris-versicolor',\n",
       "  4.8: {'SepalLengthCm': {5.9: 'Iris-versicolor',\n",
       "    6.0: 'Iris-virginica',\n",
       "    6.2: 'Iris-virginica',\n",
       "    6.8: 'Iris-versicolor'}},\n",
       "  4.9: {'SepalWidthCm': {2.5: 'Iris-versicolor',\n",
       "    2.7: 'Iris-virginica',\n",
       "    2.8: 'Iris-virginica',\n",
       "    3.0: 'Iris-virginica',\n",
       "    3.1: 'Iris-versicolor'}},\n",
       "  5.0: {'SepalLengthCm': {5.7: 'Iris-virginica',\n",
       "    6.0: 'Iris-virginica',\n",
       "    6.3: 'Iris-virginica',\n",
       "    6.7: 'Iris-versicolor'}},\n",
       "  5.1: {'SepalLengthCm': {5.8: 'Iris-virginica',\n",
       "    5.9: 'Iris-virginica',\n",
       "    6.0: 'Iris-versicolor',\n",
       "    6.3: 'Iris-virginica',\n",
       "    6.5: 'Iris-virginica',\n",
       "    6.9: 'Iris-virginica'}},\n",
       "  5.2: 'Iris-virginica',\n",
       "  5.3: 'Iris-virginica',\n",
       "  5.4: 'Iris-virginica',\n",
       "  5.5: 'Iris-virginica',\n",
       "  5.6: 'Iris-virginica',\n",
       "  5.7: 'Iris-virginica',\n",
       "  5.8: 'Iris-virginica',\n",
       "  5.9: 'Iris-virginica',\n",
       "  6.0: 'Iris-virginica',\n",
       "  6.1: 'Iris-virginica',\n",
       "  6.3: 'Iris-virginica',\n",
       "  6.4: 'Iris-virginica',\n",
       "  6.6: 'Iris-virginica',\n",
       "  6.7: 'Iris-virginica',\n",
       "  6.9: 'Iris-virginica'}}"
      ]
     },
     "execution_count": 95,
     "metadata": {},
     "output_type": "execute_result"
    }
   ],
   "source": [
    "tree"
   ]
  },
  {
   "cell_type": "code",
   "execution_count": null,
   "metadata": {},
   "outputs": [],
   "source": []
  },
  {
   "cell_type": "code",
   "execution_count": null,
   "metadata": {},
   "outputs": [],
   "source": []
  }
 ],
 "metadata": {
  "kernelspec": {
   "display_name": "Python 3",
   "language": "python",
   "name": "python3"
  },
  "language_info": {
   "codemirror_mode": {
    "name": "ipython",
    "version": 3
   },
   "file_extension": ".py",
   "mimetype": "text/x-python",
   "name": "python",
   "nbconvert_exporter": "python",
   "pygments_lexer": "ipython3",
   "version": "3.7.2"
  }
 },
 "nbformat": 4,
 "nbformat_minor": 2
}
