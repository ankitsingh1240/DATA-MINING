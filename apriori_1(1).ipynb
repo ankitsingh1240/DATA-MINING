{
 "cells": [
  {
   "cell_type": "code",
   "execution_count": 91,
   "metadata": {},
   "outputs": [
    {
     "data": {
      "text/plain": [
       "5"
      ]
     },
     "execution_count": 91,
     "metadata": {},
     "output_type": "execute_result"
    }
   ],
   "source": [
    "data = [['Milk', 'Onion', 'Nutmeg', 'Kidney Beans', 'Eggs', 'Yogurt'],\n",
    "           ['Dill', 'Onion', 'Nutmeg', 'Kidney Beans', 'Eggs', 'Yogurt'],\n",
    "           ['Milk', 'Apple', 'Kidney Beans', 'Eggs'],\n",
    "           ['Milk', 'Unicorn', 'Corn', 'Kidney Beans', 'Yogurt'],\n",
    "           ['Corn', 'Onion', 'Onion', 'Kidney Beans', 'Ice cream', 'Eggs']]\n",
    "len(data)"
   ]
  },
  {
   "cell_type": "code",
   "execution_count": 92,
   "metadata": {},
   "outputs": [
    {
     "data": {
      "text/plain": [
       "[['Milk', 'Onion', 'Nutmeg', 'Kidney Beans', 'Eggs', 'Yogurt'],\n",
       " ['Dill', 'Onion', 'Nutmeg', 'Kidney Beans', 'Eggs', 'Yogurt'],\n",
       " ['Milk', 'Apple', 'Kidney Beans', 'Eggs'],\n",
       " ['Milk', 'Unicorn', 'Corn', 'Kidney Beans', 'Yogurt'],\n",
       " ['Corn', 'Onion', 'Onion', 'Kidney Beans', 'Ice cream', 'Eggs']]"
      ]
     },
     "execution_count": 92,
     "metadata": {},
     "output_type": "execute_result"
    }
   ],
   "source": [
    "data\n"
   ]
  },
  {
   "cell_type": "code",
   "execution_count": 93,
   "metadata": {},
   "outputs": [],
   "source": [
    "def candidate1(dataSet):\n",
    "    c1 = []\n",
    "    for transaction in dataSet:\n",
    "        for item in transaction:\n",
    "            if not [item] in c1:\n",
    "                c1.append([item])\n",
    "    c1.sort()\n",
    "    return list(map(frozenset, c1))"
   ]
  },
  {
   "cell_type": "code",
   "execution_count": 94,
   "metadata": {},
   "outputs": [
    {
     "data": {
      "text/plain": [
       "[frozenset({'Apple'}),\n",
       " frozenset({'Corn'}),\n",
       " frozenset({'Dill'}),\n",
       " frozenset({'Eggs'}),\n",
       " frozenset({'Ice cream'}),\n",
       " frozenset({'Kidney Beans'}),\n",
       " frozenset({'Milk'}),\n",
       " frozenset({'Nutmeg'}),\n",
       " frozenset({'Onion'}),\n",
       " frozenset({'Unicorn'}),\n",
       " frozenset({'Yogurt'})]"
      ]
     },
     "execution_count": 94,
     "metadata": {},
     "output_type": "execute_result"
    }
   ],
   "source": [
    "c1=candidate1(data)\n",
    "c1"
   ]
  },
  {
   "cell_type": "code",
   "execution_count": 95,
   "metadata": {},
   "outputs": [
    {
     "data": {
      "text/plain": [
       "[{'Eggs', 'Kidney Beans', 'Milk', 'Nutmeg', 'Onion', 'Yogurt'},\n",
       " {'Dill', 'Eggs', 'Kidney Beans', 'Nutmeg', 'Onion', 'Yogurt'},\n",
       " {'Apple', 'Eggs', 'Kidney Beans', 'Milk'},\n",
       " {'Corn', 'Kidney Beans', 'Milk', 'Unicorn', 'Yogurt'},\n",
       " {'Corn', 'Eggs', 'Ice cream', 'Kidney Beans', 'Onion'}]"
      ]
     },
     "execution_count": 95,
     "metadata": {},
     "output_type": "execute_result"
    }
   ],
   "source": [
    "D = list(map(set,data))\n",
    "D"
   ]
  },
  {
   "cell_type": "code",
   "execution_count": 96,
   "metadata": {},
   "outputs": [],
   "source": [
    "def scan1(Data, candidate1, minSupport):\n",
    "    ssCnt = {}\n",
    "    for tid in Data:\n",
    "        for can in candidate1:\n",
    "            if can.issubset(tid):\n",
    "                if not can in ssCnt: ssCnt[can]=1\n",
    "                else: ssCnt[can] += 1\n",
    "    numItems = float(len(Data))\n",
    "    retList = []\n",
    "    supportData = {}\n",
    "    for key in ssCnt:\n",
    "        support = ssCnt[key]/numItems\n",
    "        if support >= minSupport:\n",
    "            retList.insert(0,key)\n",
    "        supportData[key] = support\n",
    "    return retList, supportData"
   ]
  },
  {
   "cell_type": "code",
   "execution_count": 97,
   "metadata": {},
   "outputs": [
    {
     "data": {
      "text/plain": [
       "[frozenset({'Yogurt'}),\n",
       " frozenset({'Onion'}),\n",
       " frozenset({'Milk'}),\n",
       " frozenset({'Kidney Beans'}),\n",
       " frozenset({'Eggs'})]"
      ]
     },
     "execution_count": 97,
     "metadata": {},
     "output_type": "execute_result"
    }
   ],
   "source": [
    "L1,suppDat0 = scan1(D,c1,0.5)\n",
    "L1"
   ]
  },
  {
   "cell_type": "code",
   "execution_count": 98,
   "metadata": {},
   "outputs": [
    {
     "data": {
      "text/plain": [
       "{frozenset({'Eggs'}): 0.8,\n",
       " frozenset({'Kidney Beans'}): 1.0,\n",
       " frozenset({'Milk'}): 0.6,\n",
       " frozenset({'Nutmeg'}): 0.4,\n",
       " frozenset({'Onion'}): 0.6,\n",
       " frozenset({'Yogurt'}): 0.6,\n",
       " frozenset({'Dill'}): 0.2,\n",
       " frozenset({'Apple'}): 0.2,\n",
       " frozenset({'Corn'}): 0.4,\n",
       " frozenset({'Unicorn'}): 0.2,\n",
       " frozenset({'Ice cream'}): 0.2}"
      ]
     },
     "execution_count": 98,
     "metadata": {},
     "output_type": "execute_result"
    }
   ],
   "source": [
    "suppDat0"
   ]
  },
  {
   "cell_type": "code",
   "execution_count": 99,
   "metadata": {},
   "outputs": [],
   "source": [
    "def aprioriGen(Lk, k): \n",
    "    retList = []\n",
    "    lenLk = len(Lk)\n",
    "    for i in range(lenLk):\n",
    "        for j in range(i+1, lenLk): \n",
    "            L1 = list(Lk[i])[:k-2]; L2 = list(Lk[j])[:k-2]\n",
    "            L1.sort(); L2.sort()\n",
    "            if L1==L2: \n",
    "                retList.append(Lk[i] | Lk[j]) \n",
    "    return retList"
   ]
  },
  {
   "cell_type": "code",
   "execution_count": 100,
   "metadata": {},
   "outputs": [
    {
     "data": {
      "text/plain": [
       "[frozenset({'Onion', 'Yogurt'}),\n",
       " frozenset({'Milk', 'Yogurt'}),\n",
       " frozenset({'Kidney Beans', 'Yogurt'}),\n",
       " frozenset({'Eggs', 'Yogurt'}),\n",
       " frozenset({'Milk', 'Onion'}),\n",
       " frozenset({'Kidney Beans', 'Onion'}),\n",
       " frozenset({'Eggs', 'Onion'}),\n",
       " frozenset({'Kidney Beans', 'Milk'}),\n",
       " frozenset({'Eggs', 'Milk'}),\n",
       " frozenset({'Eggs', 'Kidney Beans'})]"
      ]
     },
     "execution_count": 100,
     "metadata": {},
     "output_type": "execute_result"
    }
   ],
   "source": [
    "aprioriGen(L1,2)"
   ]
  },
  {
   "cell_type": "code",
   "execution_count": 101,
   "metadata": {},
   "outputs": [],
   "source": [
    "def apriori(dataSet, minSupport = 0.5):\n",
    "    C1 = candidate1(dataSet)\n",
    "    D = list(map(set, dataSet))\n",
    "    L1, supportData = scan1(D, C1, minSupport)\n",
    "    L = [L1]\n",
    "    k = 2\n",
    "    while (len(L[k-2]) > 0):\n",
    "        Ck = aprioriGen(L[k-2], k)\n",
    "        Lk, supK = scan1(D, Ck, minSupport)#scan DB to get Lk\n",
    "        supportData.update(supK)\n",
    "        L.append(Lk)\n",
    "        k += 1\n",
    "    return L, supportData"
   ]
  },
  {
   "cell_type": "code",
   "execution_count": 102,
   "metadata": {},
   "outputs": [
    {
     "data": {
      "text/plain": [
       "[frozenset({'Eggs', 'Kidney Beans'}),\n",
       " frozenset({'Kidney Beans', 'Milk'}),\n",
       " frozenset({'Eggs', 'Onion'}),\n",
       " frozenset({'Kidney Beans', 'Onion'}),\n",
       " frozenset({'Kidney Beans', 'Yogurt'})]"
      ]
     },
     "execution_count": 102,
     "metadata": {},
     "output_type": "execute_result"
    }
   ],
   "source": [
    "L,suppData = apriori(data)\n",
    "L[1]"
   ]
  },
  {
   "cell_type": "code",
   "execution_count": 103,
   "metadata": {},
   "outputs": [
    {
     "data": {
      "text/plain": [
       "[frozenset({'Eggs', 'Kidney Beans', 'Onion'})]"
      ]
     },
     "execution_count": 103,
     "metadata": {},
     "output_type": "execute_result"
    }
   ],
   "source": [
    "L[2]"
   ]
  },
  {
   "cell_type": "code",
   "execution_count": null,
   "metadata": {},
   "outputs": [],
   "source": []
  },
  {
   "cell_type": "code",
   "execution_count": null,
   "metadata": {},
   "outputs": [],
   "source": []
  },
  {
   "cell_type": "code",
   "execution_count": null,
   "metadata": {},
   "outputs": [],
   "source": []
  },
  {
   "cell_type": "code",
   "execution_count": null,
   "metadata": {},
   "outputs": [],
   "source": []
  },
  {
   "cell_type": "code",
   "execution_count": null,
   "metadata": {},
   "outputs": [],
   "source": []
  }
 ],
 "metadata": {
  "kernelspec": {
   "display_name": "Python 3",
   "language": "python",
   "name": "python3"
  },
  "language_info": {
   "codemirror_mode": {
    "name": "ipython",
    "version": 3
   },
   "file_extension": ".py",
   "mimetype": "text/x-python",
   "name": "python",
   "nbconvert_exporter": "python",
   "pygments_lexer": "ipython3",
   "version": "3.7.2"
  }
 },
 "nbformat": 4,
 "nbformat_minor": 2
}
